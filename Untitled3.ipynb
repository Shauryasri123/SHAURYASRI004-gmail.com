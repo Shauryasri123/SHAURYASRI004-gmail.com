{
 "cells": [
  {
   "cell_type": "code",
   "execution_count": null,
   "id": "899a2783-b2a3-45b3-93b8-9966caffe802",
   "metadata": {},
   "outputs": [],
   "source": [
    "import pandas as pd\n",
    "from sklearn.model_selection import train_test_split\n",
    "from transformers import AutoTokenizer\n",
    "\n",
    "# Load datasets\n",
    "userA = pd.read_csv(\"/Desktop/Dataset/userA_chats.csv\")\n",
    "userB = pd.read_csv(\"/Desktop/Dataset/userB_chats.csv\")\n",
    "\n",
    "# Merge into a conversation dataset\n",
    "# Assuming both files have 'message' column\n",
    "conversation = pd.DataFrame({\n",
    "    'input': userB['message'],    # User B messages as input\n",
    "    'target': userA['message']    # User A replies as target\n",
    "})\n",
    "\n",
    "# Split train/test\n",
    "train_df, test_df = train_test_split(conversation, test_size=0.1, random_state=42)\n",
    "\n",
    "# Load tokenizer (GPT-2 example)\n",
    "tokenizer = AutoTokenizer.from_pretrained(\"gpt2\")\n",
    "\n",
    "# Tokenize\n",
    "def tokenize_data(df):\n",
    "    return tokenizer(\n",
    "        df['input'].tolist(), df['target'].tolist(),\n",
    "        padding=True,\n",
    "        truncation=True,\n",
    "        return_tensors=\"pt\"\n",
    "    )\n",
    "\n",
    "train_encodings = tokenize_data(train_df)\n",
    "test_encodings = tokenize_data(test_df)"
   ]
  },
  {
   "cell_type": "code",
   "execution_count": null,
   "id": "63947b9a-898c-4886-8bc9-255b025f5f81",
   "metadata": {},
   "outputs": [],
   "source": [
    "import torch\n",
    "from transformers import GPT2LMHeadModel\n",
    "\n",
    "# Load GPT-2 small (offline, preloaded weights)\n",
    "model = GPT2LMHeadModel.from_pretrained(\"gpt2\")\n",
    "\n",
    "# Move to GPU if available\n",
    "device = torch.device(\"cuda\" if torch.cuda.is_available() else \"cpu\")\n",
    "model.to(device)"
   ]
  },
  {
   "cell_type": "code",
   "execution_count": null,
   "id": "1091d316-9ea9-44c3-8d2d-22828b83d9dc",
   "metadata": {},
   "outputs": [],
   "source": [
    "from torch.utils.data import Dataset, DataLoader\n",
    "\n",
    "class ChatDataset(Dataset):\n",
    "    def __init__(self, encodings):\n",
    "        self.input_ids = encodings['input_ids']\n",
    "        self.attention_mask = encodings['attention_mask']\n",
    "        self.labels = encodings['input_ids']  # For GPT2 LM\n",
    "\n",
    "    def __len__(self):\n",
    "        return len(self.input_ids)\n",
    "\n",
    "    def __getitem__(self, idx):\n",
    "        return {\n",
    "            'input_ids': self.input_ids[idx],\n",
    "            'attention_mask': self.attention_mask[idx],\n",
    "            'labels': self.labels[idx]\n",
    "        }\n",
    "\n",
    "train_dataset = ChatDataset(train_encodings)\n",
    "train_loader = DataLoader(train_dataset, batch_size=2, shuffle=True)\n",
    "\n",
    "# Optimizer\n",
    "from torch.optim import AdamW\n",
    "optimizer = AdamW(model.parameters(), lr=5e-5)\n",
    "\n",
    "# Training loop (simplified)\n",
    "model.train()\n",
    "for epoch in range(2):  # Keep epochs low for demo\n",
    "    for batch in train_loader:\n",
    "        optimizer.zero_grad()\n",
    "        input_ids = batch['input_ids'].to(device)\n",
    "        attention_mask = batch['attention_mask'].to(device)\n",
    "        labels = batch['labels'].to(device)\n",
    "        outputs = model(input_ids, attention_mask=attention_mask, labels=labels)\n",
    "        loss = outputs.loss\n",
    "        loss.backward()\n",
    "        optimizer.step()\n",
    "    print(f\"Epoch {epoch+1} Loss: {loss.item()}\")"
   ]
  },
  {
   "cell_type": "code",
   "execution_count": null,
   "id": "4061ec43-4c7c-4af9-84fe-39d78ff538a2",
   "metadata": {},
   "outputs": [],
   "source": [
    "def generate_reply(userB_msg, max_length=50):\n",
    "    model.eval()\n",
    "    inputs = tokenizer(userB_msg, return_tensors=\"pt\").to(device)\n",
    "    reply_ids = model.generate(**inputs, max_length=max_length, pad_token_id=tokenizer.eos_token_id)\n",
    "    reply = tokenizer.decode(reply_ids[0], skip_special_tokens=True)\n",
    "    return reply\n",
    "\n",
    "# Example\n",
    "userB_input = \"Hey, are you coming to the party tonight?\"\n",
    "print(\"User A Reply:\", generate_reply(userB_input))"
   ]
  },
  {
   "cell_type": "code",
   "execution_count": null,
   "id": "fb256400-abce-4357-818b-91850fd920ee",
   "metadata": {},
   "outputs": [],
   "source": []
  }
 ],
 "metadata": {
  "kernelspec": {
   "display_name": "Python 3 (ipykernel)",
   "language": "python",
   "name": "python3"
  },
  "language_info": {
   "codemirror_mode": {
    "name": "ipython",
    "version": 3
   },
   "file_extension": ".py",
   "mimetype": "text/x-python",
   "name": "python",
   "nbconvert_exporter": "python",
   "pygments_lexer": "ipython3",
   "version": "3.12.4"
  }
 },
 "nbformat": 4,
 "nbformat_minor": 5
}
